{
 "cells": [
  {
   "cell_type": "code",
   "execution_count": 4,
   "metadata": {},
   "outputs": [],
   "source": [
    "import random\n",
    "import wandb\n",
    "import numpy         as np\n",
    "\n",
    "import mlx\n",
    "import mlx.core       as mx\n",
    "import mlx.nn         as nn\n",
    "import mlx.optimizers as optim\n",
    "import mlx.data       as data"
   ]
  },
  {
   "cell_type": "code",
   "execution_count": 2,
   "metadata": {},
   "outputs": [],
   "source": [
    "def set_seed(seed: int):\n",
    "    random.seed(seed)\n",
    "    np.random.seed(seed)\n",
    "    mx.random.seed(seed)\n",
    "\n",
    "set_seed(42)"
   ]
  },
  {
   "cell_type": "markdown",
   "metadata": {},
   "source": [
    "### Data"
   ]
  },
  {
   "cell_type": "markdown",
   "metadata": {},
   "source": [
    "### ResNet18 Implementation"
   ]
  },
  {
   "cell_type": "code",
   "execution_count": 23,
   "metadata": {},
   "outputs": [],
   "source": [
    "class ResNetBuildingBlock(nn.Module):\n",
    "    def __init__(self, in_channels: int, out_channels: int, decrease_dim: bool=False):\n",
    "        super().__init__()\n",
    "\n",
    "        self.conv1 = nn.Conv2d(in_channels=in_channels, out_channels=out_channels, kernel_size=(3, 3), padding=1)\n",
    "\n",
    "        self.decrease_dim = decrease_dim\n",
    "        if decrease_dim:\n",
    "            self.conv2         = nn.Conv2d(in_channels=out_channels, out_channels=out_channels, kernel_size=(3, 3), stride=2, padding=1)\n",
    "            self.decrease_conv = nn.Conv2d(in_channels=in_channels,  out_channels=out_channels, kernel_size=(1, 1), stride=2, padding=0)\n",
    "        else: \n",
    "            self.conv2 = nn.Conv2d(in_channels=out_channels, out_channels=out_channels, kernel_size=(3, 3), padding=1) \n",
    "\n",
    "    def __call__(self, x: mx.array) -> mx.array:\n",
    "        \n",
    "        out = self.conv1(x)\n",
    "        out = nn.relu(out)\n",
    "        out = self.conv2(out)\n",
    "\n",
    "        if self.decrease_dim:\n",
    "            x = self.decrease_conv(x)\n",
    "            \n",
    "        out = out + x\n",
    "\n",
    "        return out\n",
    "\n",
    "\n",
    "class ResNet18(nn.Module):\n",
    "    def __init__(self,in_channels:int, num_classes: int):\n",
    "        super().__init__()\n",
    "\n",
    "        self.conv1 = nn.Conv2d(in_channels=in_channels, out_channels=64, kernel_size=(7, 7), stride=2, padding=1)\n",
    "        self.max_pool = nn.MaxPool2d(kernel_size=(2, 2), stride=2, padding=1)\n",
    "\n",
    "        self.base_blocks = [\n",
    "            ResNetBuildingBlock(in_channels=64, out_channels=64),\n",
    "            ResNetBuildingBlock(in_channels=64, out_channels=64),\n",
    "            ResNetBuildingBlock(in_channels=64, out_channels=128, decrease_dim=True),\n",
    "            ResNetBuildingBlock(in_channels=128, out_channels=128),\n",
    "            ResNetBuildingBlock(in_channels=128, out_channels=256, decrease_dim=True),\n",
    "            ResNetBuildingBlock(in_channels=256, out_channels=256),\n",
    "            ResNetBuildingBlock(in_channels=256, out_channels=512, decrease_dim=True),\n",
    "            ResNetBuildingBlock(in_channels=512, out_channels=512)\n",
    "        ]\n",
    "\n",
    "        self.average_pooling = nn.AvgPool2d(kernel_size=(2, 2))\n",
    "        self.classifier      = nn.Linear(input_dims=4608, output_dims=num_classes)\n",
    "\n",
    "    def __call__(self, x: mx.array):\n",
    "        \n",
    "        out = self.conv1(x)\n",
    "        out = self.max_pool(out)\n",
    "        out = nn.relu(out)\n",
    "\n",
    "        for block in self.base_blocks[:-1]:\n",
    "            out = block(out)\n",
    "            out = nn.relu(out)\n",
    "            \n",
    "        out = self.base_blocks[-1](out)    \n",
    "        out = self.average_pooling(out)\n",
    "        out = mx.flatten(out)\n",
    "        \n",
    "        logits = self.classifier(out)\n",
    "\n",
    "        return logits"
   ]
  },
  {
   "cell_type": "markdown",
   "metadata": {},
   "source": [
    "### W&B Setup"
   ]
  },
  {
   "cell_type": "markdown",
   "metadata": {},
   "source": [
    "Great tutorial from W&B [here](https://wandb.ai/byyoung3/ML_NEWS3/reports/Getting-started-with-Apple-MLX--Vmlldzo5Njk5MTk1)"
   ]
  },
  {
   "cell_type": "code",
   "execution_count": 5,
   "metadata": {},
   "outputs": [],
   "source": [
    "use_wandb = False\n",
    "\n",
    "if use_wandb:\n",
    "    wandb.init(project=\"MLX_QUICK_AND_DRAW\")"
   ]
  },
  {
   "cell_type": "markdown",
   "metadata": {},
   "source": [
    "### Training Loop"
   ]
  },
  {
   "cell_type": "markdown",
   "metadata": {},
   "source": [
    "Let's initialize model, optimizer and loss function."
   ]
  },
  {
   "cell_type": "code",
   "execution_count": 8,
   "metadata": {},
   "outputs": [],
   "source": [
    "device = mx.gpu"
   ]
  },
  {
   "cell_type": "code",
   "execution_count": 20,
   "metadata": {},
   "outputs": [],
   "source": [
    "model = ResNet18(in_channels=1, num_classes=345)\n",
    "mx.eval(model.parameters())"
   ]
  },
  {
   "cell_type": "code",
   "execution_count": 21,
   "metadata": {},
   "outputs": [],
   "source": [
    "batch_size = 256\n",
    "optimizer = optim.SGD(learning_rate=0.1, momentum=0.9, weight_decay=0.0001)\n",
    "\n",
    "def loss_fn(model, X: mx.array, y: mx.array):\n",
    "    return nn.losses.cross_entropy(model(X), y, reduction=\"mean\")\n",
    "\n",
    "loss_and_grad_fn = mx.value_and_grad(loss_fn)"
   ]
  },
  {
   "cell_type": "code",
   "execution_count": null,
   "metadata": {},
   "outputs": [],
   "source": []
  },
  {
   "cell_type": "code",
   "execution_count": 7,
   "metadata": {},
   "outputs": [],
   "source": [
    "epoches = 20"
   ]
  },
  {
   "cell_type": "code",
   "execution_count": 8,
   "metadata": {},
   "outputs": [
    {
     "name": "stdout",
     "output_type": "stream",
     "text": [
      "0\n"
     ]
    }
   ],
   "source": [
    "for epoch in range(epoches):\n",
    "    print(epoch)\n",
    "    break"
   ]
  },
  {
   "cell_type": "code",
   "execution_count": null,
   "metadata": {},
   "outputs": [],
   "source": []
  }
 ],
 "metadata": {
  "kernelspec": {
   "display_name": "base",
   "language": "python",
   "name": "python3"
  },
  "language_info": {
   "codemirror_mode": {
    "name": "ipython",
    "version": 3
   },
   "file_extension": ".py",
   "mimetype": "text/x-python",
   "name": "python",
   "nbconvert_exporter": "python",
   "pygments_lexer": "ipython3",
   "version": "3.11.8"
  }
 },
 "nbformat": 4,
 "nbformat_minor": 2
}
