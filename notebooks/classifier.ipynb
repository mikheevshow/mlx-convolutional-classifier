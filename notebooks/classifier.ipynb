{
 "cells": [
  {
   "cell_type": "code",
   "execution_count": 183,
   "metadata": {},
   "outputs": [],
   "source": [
    "import mlx\n",
    "import mlx.core       as mx\n",
    "import mlx.nn         as nn\n",
    "import mlx.optimizers as optim\n",
    "import mlx.data       as data"
   ]
  },
  {
   "cell_type": "code",
   "execution_count": 174,
   "metadata": {},
   "outputs": [],
   "source": [
    "class ResNetBuildingBlock(nn.Module):\n",
    "    def __init__(self, in_channels: int, out_channels: int, decrease_dim: bool=False):\n",
    "        super(ResNetBuildingBlock).__init__()\n",
    "\n",
    "        self.conv1 = nn.Conv2d(in_channels=in_channels, out_channels=out_channels, kernel_size=(3, 3), padding=1)\n",
    "\n",
    "        self.decrease_dim = decrease_dim\n",
    "        if decrease_dim:\n",
    "            self.conv2         = nn.Conv2d(in_channels=out_channels, out_channels=out_channels, kernel_size=(3, 3), stride=2, padding=1)\n",
    "            self.decrease_conv = nn.Conv2d(in_channels=in_channels,  out_channels=out_channels, kernel_size=(1, 1), stride=2)\n",
    "        else: \n",
    "            self.conv2 = nn.Conv2d(in_channels=out_channels, out_channels=out_channels, kernel_size=(3, 3), padding=1) \n",
    "\n",
    "    def __call__(self, x: mx.array) -> mx.array:\n",
    "        \n",
    "        out = self.conv1(x)\n",
    "        out = nn.relu(out)\n",
    "        out = self.conv2(out)\n",
    "\n",
    "        if self.decrease_dim:\n",
    "            x = self.decrease_conv(x)\n",
    "            \n",
    "        out = out + x\n",
    "\n",
    "        return out\n",
    "\n",
    "\n",
    "class ResNet18(nn.Module):\n",
    "    def __init__(self,in_channels:int, num_classes: int):\n",
    "        super(ResNet18).__init__()\n",
    "\n",
    "        self.conv1 = nn.Conv2d(in_channels=in_channels, out_channels=64, kernel_size=(7, 7), stride=2, padding=1)\n",
    "        self.max_pool = nn.MaxPool2d(kernel_size=(2, 2), stride=2, padding=1)\n",
    "        \n",
    "        self.bb1 = ResNetBuildingBlock(in_channels=64, out_channels=64)\n",
    "        self.bb2 = ResNetBuildingBlock(in_channels=64, out_channels=64)\n",
    "\n",
    "        self.bb3 = ResNetBuildingBlock(in_channels=64, out_channels=128, decrease_dim=True)\n",
    "        self.bb4 = ResNetBuildingBlock(in_channels=128, out_channels=128)\n",
    "\n",
    "        self.bb5 = ResNetBuildingBlock(in_channels=128, out_channels=256, decrease_dim=True)\n",
    "        self.bb6 = ResNetBuildingBlock(in_channels=256, out_channels=256)\n",
    "\n",
    "        self.bb7 = ResNetBuildingBlock(in_channels=256, out_channels=512, decrease_dim=True)\n",
    "        self.bb8 = ResNetBuildingBlock(in_channels=512, out_channels=512)\n",
    "\n",
    "        self.ap = nn.AvgPool2d(kernel_size=(2, 2))\n",
    "        self.linear = nn.Linear(input_dims=4608, output_dims=num_classes)\n",
    "        \n",
    "\n",
    "    def __call__(self, x: mx.array):\n",
    "        \n",
    "        out = self.conv1(x)\n",
    "        out = self.max_pool(out)\n",
    "\n",
    "        out = self.bb1(out)\n",
    "        out = nn.relu(out)\n",
    "\n",
    "        out = self.bb2(out)\n",
    "        out = nn.relu(out)\n",
    "\n",
    "        out = self.bb3(out)\n",
    "        out = nn.relu(out)\n",
    "\n",
    "        out = self.bb4(out)\n",
    "        out = nn.relu(out)\n",
    "\n",
    "        out = self.bb5(out)\n",
    "        out = nn.relu(out)\n",
    "\n",
    "        out = self.bb6(out)\n",
    "        out = nn.relu(out)\n",
    "\n",
    "        out = self.bb7(out)\n",
    "        out = nn.relu(out)\n",
    "\n",
    "        out = self.bb8(out)\n",
    "        out = nn.relu(out)\n",
    "\n",
    "        out = self.ap(out)\n",
    "        out = mx.flatten(out)\n",
    "        \n",
    "        logits = self.linear(out)\n",
    "\n",
    "        return logits"
   ]
  },
  {
   "cell_type": "code",
   "execution_count": 175,
   "metadata": {},
   "outputs": [],
   "source": [
    "batch_size = 256\n",
    "optimizer = optim.SGD(learning_rate=0.1, momentum=0.9, weight_decay=0.0001)"
   ]
  },
  {
   "cell_type": "code",
   "execution_count": 176,
   "metadata": {},
   "outputs": [
    {
     "data": {
      "text/plain": [
       "(1, 224, 224, 1)"
      ]
     },
     "execution_count": 176,
     "metadata": {},
     "output_type": "execute_result"
    }
   ],
   "source": [
    "import numpy as np\n",
    "\n",
    "arr = np.random.random((1, 224,224, 1))\n",
    "pic = mx.array(arr)\n",
    "pic.shape"
   ]
  },
  {
   "cell_type": "code",
   "execution_count": 177,
   "metadata": {},
   "outputs": [],
   "source": [
    "model = ResNet18(in_channels=1, num_classes=345)\n",
    "mx.eval(model.parameters())"
   ]
  },
  {
   "cell_type": "code",
   "execution_count": 179,
   "metadata": {},
   "outputs": [],
   "source": [
    "logits = model(pic)"
   ]
  },
  {
   "cell_type": "markdown",
   "metadata": {},
   "source": [
    "### Training Loop"
   ]
  },
  {
   "cell_type": "code",
   "execution_count": 184,
   "metadata": {},
   "outputs": [],
   "source": [
    "epoches = 20"
   ]
  },
  {
   "cell_type": "code",
   "execution_count": null,
   "metadata": {},
   "outputs": [],
   "source": [
    "for epoch in range(epoches):\n",
    "    break"
   ]
  }
 ],
 "metadata": {
  "kernelspec": {
   "display_name": "base",
   "language": "python",
   "name": "python3"
  },
  "language_info": {
   "codemirror_mode": {
    "name": "ipython",
    "version": 3
   },
   "file_extension": ".py",
   "mimetype": "text/x-python",
   "name": "python",
   "nbconvert_exporter": "python",
   "pygments_lexer": "ipython3",
   "version": "3.11.8"
  }
 },
 "nbformat": 4,
 "nbformat_minor": 2
}
